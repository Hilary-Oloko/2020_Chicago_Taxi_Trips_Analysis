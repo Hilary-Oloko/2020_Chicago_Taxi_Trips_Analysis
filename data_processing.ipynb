{
 "cells": [
  {
   "cell_type": "code",
   "execution_count": 1,
   "metadata": {},
   "outputs": [],
   "source": [
    "# Data Processing With PySpark SQL\n",
    "\n",
    "from pyspark.sql import SparkSession\n",
    "from pyspark.sql.functions import col, when, mean,hour, when, to_timestamp, round\n",
    "import matplotlib.pyplot as plt"
   ]
  },
  {
   "cell_type": "code",
   "execution_count": 2,
   "metadata": {},
   "outputs": [],
   "source": [
    "spark = SparkSession.builder \\\n",
    "              .appName(\"DataProcessing\") \\\n",
    "              .getOrCreate()"
   ]
  },
  {
   "cell_type": "code",
   "execution_count": 3,
   "metadata": {},
   "outputs": [],
   "source": [
    "df = spark.read.csv(\".\\data\\Taxi_Trips_2020.csv\", header=True, inferSchema=True)"
   ]
  },
  {
   "cell_type": "code",
   "execution_count": 4,
   "metadata": {},
   "outputs": [
    {
     "name": "stdout",
     "output_type": "stream",
     "text": [
      "+--------------------+--------------------+--------------------+--------------------+------------+----------+-------------------+--------------------+---------------------+----------------------+----+----+-----+------+----------+------------+--------------------+------------------------+-------------------------+------------------------+-------------------------+--------------------------+--------------------------+\n",
      "|             Trip ID|             Taxi ID|Trip Start Timestamp|  Trip End Timestamp|Trip Seconds|Trip Miles|Pickup Census Tract|Dropoff Census Tract|Pickup Community Area|Dropoff Community Area|Fare|Tips|Tolls|Extras|Trip Total|Payment Type|             Company|Pickup Centroid Latitude|Pickup Centroid Longitude|Pickup Centroid Location|Dropoff Centroid Latitude|Dropoff Centroid Longitude|Dropoff Centroid  Location|\n",
      "+--------------------+--------------------+--------------------+--------------------+------------+----------+-------------------+--------------------+---------------------+----------------------+----+----+-----+------+----------+------------+--------------------+------------------------+-------------------------+------------------------+-------------------------+--------------------------+--------------------------+\n",
      "|16c7456d99031528c...|88d3be8c1334607f6...|01/01/2020 12:00:...|01/01/2020 12:00:...|          60|       0.0|               NULL|                NULL|                 NULL|                  NULL|3.25|0.02|  0.0|   9.0|     12.27| Credit Card| Top Cab Affiliation|                    NULL|                     NULL|                    NULL|                     NULL|                      NULL|                      NULL|\n",
      "|472eef1d5c7a5e5ee...|199fa05b63204aa1c...|01/01/2020 12:00:...|01/01/2020 12:30:...|        1740|       0.0|               NULL|                NULL|                 NULL|                    43|13.0| 0.0|  0.0|   0.0|      13.0|        Cash|Blue Ribbon Taxi ...|                    NULL|                     NULL|                    NULL|             41.761577908|             -87.572781987|      POINT (-87.572781...|\n",
      "|031a4d882fb3315a4...|aabecb47e958f9986...|01/01/2020 12:00:...|01/01/2020 12:15:...|         720|       0.7|               NULL|                NULL|                    8|                     8|7.25|2.55|  0.0|   5.0|      14.8| Credit Card|Taxi Affiliation ...|            41.899602111|            -87.633308037|    POINT (-87.633308...|             41.899602111|             -87.633308037|      POINT (-87.633308...|\n",
      "|3c416c246829dfb3f...|ba106251fbb2b5217...|01/01/2020 12:00:...|01/01/2020 12:15:...|         720|       0.8|               NULL|                NULL|                    8|                     8|7.75| 0.0|  0.0|   2.0|      9.75|        Cash|Taxi Affiliation ...|            41.899602111|            -87.633308037|    POINT (-87.633308...|             41.899602111|             -87.633308037|      POINT (-87.633308...|\n",
      "|3c0a22971ae070ce3...|1f1970d8e52c7e257...|01/01/2020 12:00:...|01/01/2020 12:00:...|         556|      0.77|               NULL|                NULL|                    8|                     8|6.75| 0.0|  0.0|   0.0|      6.75|        Cash|            Sun Taxi|            41.899602111|            -87.633308037|    POINT (-87.633308...|             41.899602111|             -87.633308037|      POINT (-87.633308...|\n",
      "+--------------------+--------------------+--------------------+--------------------+------------+----------+-------------------+--------------------+---------------------+----------------------+----+----+-----+------+----------+------------+--------------------+------------------------+-------------------------+------------------------+-------------------------+--------------------------+--------------------------+\n",
      "only showing top 5 rows\n",
      "\n"
     ]
    }
   ],
   "source": [
    "df.show(5)"
   ]
  },
  {
   "cell_type": "code",
   "execution_count": 5,
   "metadata": {},
   "outputs": [
    {
     "name": "stdout",
     "output_type": "stream",
     "text": [
      "+-------+--------------------+--------------------+--------------------+--------------------+-----------------+------------------+--------------------+--------------------+---------------------+----------------------+------------------+------------------+--------------------+-----------------+-----------------+------------+--------------------+------------------------+-------------------------+------------------------+-------------------------+--------------------------+--------------------------+\n",
      "|summary|             Trip ID|             Taxi ID|Trip Start Timestamp|  Trip End Timestamp|     Trip Seconds|        Trip Miles| Pickup Census Tract|Dropoff Census Tract|Pickup Community Area|Dropoff Community Area|              Fare|              Tips|               Tolls|           Extras|       Trip Total|Payment Type|             Company|Pickup Centroid Latitude|Pickup Centroid Longitude|Pickup Centroid Location|Dropoff Centroid Latitude|Dropoff Centroid Longitude|Dropoff Centroid  Location|\n",
      "+-------+--------------------+--------------------+--------------------+--------------------+-----------------+------------------+--------------------+--------------------+---------------------+----------------------+------------------+------------------+--------------------+-----------------+-----------------+------------+--------------------+------------------------+-------------------------+------------------------+-------------------------+--------------------------+--------------------------+\n",
      "|  count|             3889032|             3889032|             3889032|             3888458|          3887483|           3889002|             1782907|             1770434|              3610116|               3520203|           3888700|           3888700|             3888700|          3888700|          3888700|     3889032|             3889032|                 3610818|                  3610818|                 3610818|                  3526913|                   3526913|                   3526913|\n",
      "|   mean|                NULL|                NULL|                NULL|                NULL|874.7527292080763|3.6773130072958367|1.703142510770951...|1.703138770656276E10|   27.779014857140325|    23.684891183832296|15.701397827037239| 1.462604978527506|0.002017751433641...|1.095952585697019|18.36848553758268|        NULL|                NULL|      41.895540309913585|       -87.66599420633194|                    NULL|        41.89381941449042|        -87.65295916499784|                      NULL|\n",
      "| stddev|                NULL|                NULL|                NULL|                NULL|1784.567288291267| 6.099401337576286|   344334.7050496559|   332485.7210125657|   21.577060299610746|     18.51444059422296| 88.83487861203824|2.8588320586587295| 0.20498926158581873|23.89335679301896|92.44467251419898|        NULL|                NULL|     0.05385308342692225|      0.08123840598438568|                    NULL|     0.052044985253983614|      0.055186641540371645|                      NULL|\n",
      "|    min|00000ce01be31bef3...|0008de7a146802839...|01/01/2020 01:00:...|01/01/2020 01:00:...|                0|               0.0|         17031010100|         17031010100|                    1|                     1|               0.0|               0.0|                 0.0|              0.0|              0.0|        Cash|1085 - 72312 N an...|            41.650221676|            -87.913624596|    POINT (-87.531386...|             41.660136051|             -87.913624596|      POINT (-87.531386...|\n",
      "|    max|fffff3571a8042e32...|fff84aa08ac78890c...|12/31/2020 12:45:...|12/31/2020 12:45:...|            86398|             993.6|         17031990000|         17031990000|                   77|                    77|           9955.55|             512.0|               100.0|          9900.66|          9955.55|     Unknown|           U Taxicab|            42.021223593|            -87.531386257|    POINT (-87.913624...|             42.021223593|             -87.531386257|      POINT (-87.913624...|\n",
      "+-------+--------------------+--------------------+--------------------+--------------------+-----------------+------------------+--------------------+--------------------+---------------------+----------------------+------------------+------------------+--------------------+-----------------+-----------------+------------+--------------------+------------------------+-------------------------+------------------------+-------------------------+--------------------------+--------------------------+\n",
      "\n"
     ]
    }
   ],
   "source": [
    "df.describe().show()"
   ]
  },
  {
   "cell_type": "code",
   "execution_count": 6,
   "metadata": {},
   "outputs": [
    {
     "name": "stdout",
     "output_type": "stream",
     "text": [
      "root\n",
      " |-- Trip ID: string (nullable = true)\n",
      " |-- Taxi ID: string (nullable = true)\n",
      " |-- Trip Start Timestamp: string (nullable = true)\n",
      " |-- Trip End Timestamp: string (nullable = true)\n",
      " |-- Trip Seconds: integer (nullable = true)\n",
      " |-- Trip Miles: double (nullable = true)\n",
      " |-- Pickup Census Tract: long (nullable = true)\n",
      " |-- Dropoff Census Tract: long (nullable = true)\n",
      " |-- Pickup Community Area: integer (nullable = true)\n",
      " |-- Dropoff Community Area: integer (nullable = true)\n",
      " |-- Fare: double (nullable = true)\n",
      " |-- Tips: double (nullable = true)\n",
      " |-- Tolls: double (nullable = true)\n",
      " |-- Extras: double (nullable = true)\n",
      " |-- Trip Total: double (nullable = true)\n",
      " |-- Payment Type: string (nullable = true)\n",
      " |-- Company: string (nullable = true)\n",
      " |-- Pickup Centroid Latitude: double (nullable = true)\n",
      " |-- Pickup Centroid Longitude: double (nullable = true)\n",
      " |-- Pickup Centroid Location: string (nullable = true)\n",
      " |-- Dropoff Centroid Latitude: double (nullable = true)\n",
      " |-- Dropoff Centroid Longitude: double (nullable = true)\n",
      " |-- Dropoff Centroid  Location: string (nullable = true)\n",
      "\n"
     ]
    }
   ],
   "source": [
    "df.printSchema()"
   ]
  },
  {
   "cell_type": "code",
   "execution_count": 8,
   "metadata": {},
   "outputs": [
    {
     "data": {
      "text/plain": [
       "<Figure size 1000x600 with 0 Axes>"
      ]
     },
     "metadata": {},
     "output_type": "display_data"
    },
    {
     "data": {
      "image/png": "[encoded data removed]",
      "text/plain": [
       "<Figure size 640x480 with 1 Axes>"
      ]
     },
     "metadata": {},
     "output_type": "display_data"
    }
   ],
   "source": [
    "# df.select(\"Payment Type\",\"Trip Total\",\"Fare\").filter(df[\"Trip Total\"]==0).show()\n",
    "trip_total_null = df.filter(df[\"Trip Total\"].isNull()).groupBy(\"Payment Type\").count()\n",
    "\n",
    "# Convertissez le dataframe Spark en DataFrame Pandas pour la visualisation\n",
    "trip_total_null_pd = trip_total_null.toPandas()\n",
    "\n",
    "plt.figure(figsize=(10, 6))\n",
    "ax = trip_total_null_pd.plot(kind=\"bar\", x=\"Payment Type\", y=\"count\")\n",
    "\n",
    "for i, v in enumerate(trip_total_null_pd[\"count\"]):\n",
    "    ax.text(i, v, str(v), ha=\"center\", va=\"bottom\")\n",
    "\n",
    "plt.xticks(rotation=0)\n",
    "plt.show()"
   ]
  },
  {
   "cell_type": "code",
   "execution_count": 9,
   "metadata": {},
   "outputs": [],
   "source": [
    "avg_trip_total = df.agg(mean(\"Trip Total\")).collect()[0][0]\n",
    "\n",
    "df = df.withColumn(\"Trip Total\", when(df[\"Trip Total\"].isNull(), avg_trip_total).otherwise(df[\"Trip Total\"]))\n",
    "df = df.withColumn(\"Tips\", when(df[\"Tips\"].isNull(), 0).otherwise(df[\"Tips\"]))\n",
    "\n",
    "#Now we have 2812332 rows with no NULL value."
   ]
  },
  {
   "cell_type": "code",
   "execution_count": 10,
   "metadata": {},
   "outputs": [
    {
     "name": "stdout",
     "output_type": "stream",
     "text": [
      "+--------------------+--------------------+--------------------+----+----------+------------+------------------------+-------------------------+-------------------------+--------------------------+-------+-----------+---------------+\n",
      "|             Trip ID|             Taxi ID|Trip Start Timestamp|Tips|Trip Total|Payment Type|Pickup Centroid Latitude|Pickup Centroid Longitude|Dropoff Centroid Latitude|Dropoff Centroid Longitude| Period|Trip Minute|Trip Kilometres|\n",
      "+--------------------+--------------------+--------------------+----+----------+------------+------------------------+-------------------------+-------------------------+--------------------------+-------+-----------+---------------+\n",
      "|031a4d882fb3315a4...|aabecb47e958f9986...| 2020-01-01 00:00:00|2.55|      14.8| Credit Card|            41.899602111|            -87.633308037|             41.899602111|             -87.633308037|Morning|       12.0|           1.13|\n",
      "|3c416c246829dfb3f...|ba106251fbb2b5217...| 2020-01-01 00:00:00| 0.0|      9.75|        Cash|            41.899602111|            -87.633308037|             41.899602111|             -87.633308037|Morning|       12.0|           1.29|\n",
      "|3c0a22971ae070ce3...|1f1970d8e52c7e257...| 2020-01-01 00:00:00| 0.0|      6.75|        Cash|            41.899602111|            -87.633308037|             41.899602111|             -87.633308037|Morning|       9.27|           1.24|\n",
      "|451beabd5dd8ffc54...|a572ffd405aa83dbb...| 2020-01-01 00:00:00| 0.0|     12.25| Credit Card|            41.899602111|            -87.633308037|             41.899602111|             -87.633308037|Morning|       16.0|           3.86|\n",
      "|60da9b02b3297dc58...|155ffe17bc32e7c3b...| 2020-01-01 00:00:00| 3.6|      21.6| Credit Card|            41.899602111|            -87.633308037|             41.878865584|             -87.625192142|Morning|      31.02|           5.08|\n",
      "|64bd098989d7ad38a...|e2d8418fcdb061eee...| 2020-01-01 00:00:00| 0.0|      12.0|        Cash|            41.899602111|            -87.633308037|             41.899602111|             -87.633308037|Morning|      28.72|           1.13|\n",
      "|8e2fa4ad2d00c7372...|249ef6f75a49feebb...| 2020-01-01 00:00:00| 0.0|     25.25|        Cash|            41.899602111|            -87.633308037|             41.878865584|             -87.625192142|Morning|      62.42|           2.64|\n",
      "|9323dfcf3aa6b0e8c...|d5c4fbae1c0c51036...| 2020-01-01 00:00:00| 0.0|      7.75|        Cash|            41.899602111|            -87.633308037|             41.878865584|             -87.625192142|Morning|        5.0|           1.77|\n",
      "|948003d27aaf23c26...|161590e8d52e3d415...| 2020-01-01 00:00:00| 3.0|     11.25| Credit Card|            41.899602111|            -87.633308037|             41.899602111|             -87.633308037|Morning|       10.0|           1.61|\n",
      "|b1b3e53be11349f01...|bf144d3085b875983...| 2020-01-01 00:00:00| 3.0|     13.25| Credit Card|            41.878865584|            -87.625192142|             41.874005383|              -87.66351755|Morning|      13.15|           2.25|\n",
      "|bf9ce72e6c36c276f...|39f79f4258ca497fb...| 2020-01-01 00:00:00| 3.2|      19.2| Credit Card|            41.899602111|            -87.633308037|             41.899602111|             -87.633308037|Morning|      33.88|           3.02|\n",
      "|f3b1bea087519dccc...|03906d62f91d139ab...| 2020-01-01 00:00:00| 2.0|      10.0| Credit Card|            41.878865584|            -87.625192142|             41.878865584|             -87.625192142|Morning|       2.97|           0.77|\n",
      "|fd91e7e33cb12c6e0...|d75005ed5795e5ef2...| 2020-01-01 00:00:00| 0.0|       9.0|        Cash|            41.899602111|            -87.633308037|             41.874005383|              -87.66351755|Morning|       11.0|           3.22|\n",
      "|0130d71e07a14e955...|e45877a53e727ebec...| 2020-01-01 00:00:00| 0.0|      12.5|        Cash|            41.922686284|            -87.649488729|             41.947791586|             -87.683834942|Morning|       17.0|           4.99|\n",
      "|063493b87c19de2b8...|4a714a284c247bbdf...| 2020-01-01 00:00:00|4.35|      25.6| Credit Card|            41.874005383|             -87.66351755|              41.96581197|             -87.655878786|Morning|       17.0|          12.07|\n",
      "|09a5a459174cec28b...|93502288be804bfc4...| 2020-01-01 00:00:00| 0.0|       7.5|        Cash|            41.880994471|            -87.632746489|             41.892042136|              -87.63186395|Morning|        5.0|           1.45|\n",
      "|10d20ee5a19884c1d...|5f1b2301b2ad74e61...| 2020-01-01 00:00:00| 0.0|     16.25|     Unknown|            41.874005383|             -87.66351755|             41.878914496|              -87.70589713|Morning|       23.0|           4.02|\n",
      "|11ea0a10683f8e204...|800fe476e0b13a4e7...| 2020-01-01 00:00:00| 0.0|     31.25|        Cash|             41.79259236|            -87.769615453|             41.901206994|             -87.676355989|Morning|       19.0|           1.13|\n",
      "|12684c5f686366f92...|e67435947a69850f5...| 2020-01-01 00:00:00| 0.0|      12.0|        Cash|            41.878865584|            -87.625192142|             41.901206994|             -87.676355989|Morning|        9.0|           5.95|\n",
      "|1ea8315ca69480079...|39b3249f38d957cc2...| 2020-01-01 00:00:00| 0.0|       4.5|        Cash|            41.892042136|             -87.63186395|             41.892042136|              -87.63186395|Morning|        3.0|           0.48|\n",
      "+--------------------+--------------------+--------------------+----+----------+------------+------------------------+-------------------------+-------------------------+--------------------------+-------+-----------+---------------+\n",
      "only showing top 20 rows\n",
      "\n"
     ]
    }
   ],
   "source": [
    "df = df.withColumn(\"Period\",\n",
    "                   when(hour(col(\"Trip Start Timestamp\")).between(0, 11), \"Morning\")\n",
    "                   .when(hour(col(\"Trip Start Timestamp\")).between(12, 16), \"Afternoon\")\n",
    "                   .otherwise(\"Night\"))\n",
    "\n",
    "# New columns\n",
    "df = df.withColumn(\"Trip Minute\", round(col(\"Trip Seconds\") / 60, 2))\n",
    "df = df.withColumn(\"Trip Kilometres\", round(col(\"Trip Miles\") * 1.609,2))\n",
    "\n",
    "columns_to_drop = [\"Trip Seconds\", \"Trip Miles\"]\n",
    "df = df.drop(*columns_to_drop)\n",
    "\n",
    "df.show()"
   ]
  },
  {
   "cell_type": "code",
   "execution_count": 11,
   "metadata": {},
   "outputs": [
    {
     "name": "stdout",
     "output_type": "stream",
     "text": [
      "root\n",
      " |-- Trip ID: string (nullable = true)\n",
      " |-- Taxi ID: string (nullable = true)\n",
      " |-- Trip Start Timestamp: timestamp (nullable = true)\n",
      " |-- Tips: double (nullable = true)\n",
      " |-- Trip Total: double (nullable = true)\n",
      " |-- Payment Type: string (nullable = true)\n",
      " |-- Pickup Centroid Latitude: double (nullable = true)\n",
      " |-- Pickup Centroid Longitude: double (nullable = true)\n",
      " |-- Dropoff Centroid Latitude: double (nullable = true)\n",
      " |-- Dropoff Centroid Longitude: double (nullable = true)\n",
      " |-- Period: string (nullable = false)\n",
      " |-- Trip Minute: double (nullable = true)\n",
      " |-- Trip Kilometres: double (nullable = true)\n",
      "\n"
     ]
    }
   ],
   "source": [
    "df.printSchema()"
   ]
  },
  {
   "cell_type": "code",
   "execution_count": null,
   "metadata": {},
   "outputs": [],
   "source": [
    "df.write.csv(\"./data/process_data.csv\", header=True)"
   ]
  }
 ],
 "metadata": {
  "kernelspec": {
   "display_name": "Python 3",
   "language": "python",
   "name": "python3"
  },
  "language_info": {
   "codemirror_mode": {
    "name": "ipython",
    "version": 3
   },
   "file_extension": ".py",
   "mimetype": "text/x-python",
   "name": "python",
   "nbconvert_exporter": "python",
   "pygments_lexer": "ipython3",
   "version": "3.10.0"
  }
 },
 "nbformat": 4,
 "nbformat_minor": 2
}
